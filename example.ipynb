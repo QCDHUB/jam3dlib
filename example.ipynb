{
 "cells": [
  {
   "cell_type": "code",
   "execution_count": 1,
   "metadata": {},
   "outputs": [],
   "source": [
    "import os,sys\n",
    "import numpy as np\n",
    "from tmd import TMD\n",
    "import pylab as py\n",
    "import pandas as pd"
   ]
  },
  {
   "cell_type": "markdown",
   "metadata": {},
   "source": [
    "## Load the TMD class"
   ]
  },
  {
   "cell_type": "code",
   "execution_count": 2,
   "metadata": {},
   "outputs": [],
   "source": [
    "tag='JAM3D_2020' \n",
    "tmd=TMD(tag)"
   ]
  },
  {
   "cell_type": "markdown",
   "metadata": {},
   "source": [
    "JAM3D_2020 is a tag for a given analysis. See the table in the readme file."
   ]
  },
  {
   "cell_type": "code",
   "execution_count": 3,
   "metadata": {},
   "outputs": [],
   "source": [
    "M = 0.93891897\n",
    "Mpi = 0.135"
   ]
  },
  {
   "cell_type": "markdown",
   "metadata": {},
   "source": [
    "## Simple test"
   ]
  },
  {
   "cell_type": "code",
   "execution_count": 4,
   "metadata": {},
   "outputs": [
    {
     "name": "stdout",
     "output_type": "stream",
     "text": [
      "[ 2.42041094e-01  4.83218234e-01  0.00000000e+00 -2.05787420e-04\n",
      "  0.00000000e+00  0.00000000e+00  0.00000000e+00  2.42041094e-01\n",
      "  2.42041094e-01  2.42041094e-01  2.42041094e-01]\n",
      "[ 6.42582127e-01  1.40267663e+00  0.00000000e+00 -5.97355781e-04\n",
      "  0.00000000e+00  0.00000000e+00  0.00000000e+00  6.42582127e-01\n",
      "  6.42582127e-01  6.42582127e-01  6.42582127e-01]\n"
     ]
    }
   ],
   "source": [
    "x=0.1\n",
    "Q2=10.0\n",
    "kT=0.1\n",
    "print(tmd.eval(x,Q2,kT,'p','transversity',0,icol=False))\n",
    "print(tmd.eval(x,Q2,kT,'p','transversity',0,icol=True))"
   ]
  },
  {
   "cell_type": "markdown",
   "metadata": {},
   "source": [
    "- icol=False will give the full TMD while icol=True will return only the collinear part: see Eqs. (3)-(7) of arXiv:2002.08384 \n",
    "\n",
    "\n",
    "- The 5th argument in tmd.eval is the hadron (p: proton, pi: pion)\n",
    "\n",
    "\n",
    "- The 6th argument in tmd.eval is the replica index (0 is chosen in this case). You can get the number of replicas via tmd.nrep:\n"
   ]
  },
  {
   "cell_type": "code",
   "execution_count": 5,
   "metadata": {},
   "outputs": [
    {
     "name": "stdout",
     "output_type": "stream",
     "text": [
      "5.534289271502863\n",
      "0.0026224953566848204\n"
     ]
    }
   ],
   "source": [
    "x=0.1\n",
    "z=0.1\n",
    "Q2=10.0\n",
    "pT=0.1\n",
    "print(tmd.eval_stfunc('FUU',x,z,Q2,pT,'p','pi+',0,icol=False))\n",
    "print(tmd.eval_asymmetry('Siv',x,z,Q2,pT,'p','pi+',0,icol=False))"
   ]
  },
  {
   "cell_type": "markdown",
   "metadata": {},
   "source": [
    "- tmd.eval_stfunc gives the structure function: 'FUU' for unpolarized; 'FUTSiv' for Sivers; 'FUTCol' for Collins\n",
    "\n",
    "\n",
    "- tmd.eval_asymmetry gives the asymmetry: Sivers ('Siv') = FUTSiv/FUU; Collins ('Col') = FUTCol/FUU (NO depolarization factor)\n",
    "\n",
    "\n",
    "- The 8th argument in tmd.eval_stfunc and tmd.eval_asymmetry is the replica index (0 is chosen in this case). You can get the number of replicas via tmd.nrep:"
   ]
  },
  {
   "cell_type": "code",
   "execution_count": 6,
   "metadata": {},
   "outputs": [
    {
     "data": {
      "text/plain": [
       "953"
      ]
     },
     "execution_count": 6,
     "metadata": {},
     "output_type": "execute_result"
    }
   ],
   "source": [
    "tmd.nrep"
   ]
  },
  {
   "cell_type": "markdown",
   "metadata": {},
   "source": [
    "## Sivers asymmetry example"
   ]
  },
  {
   "cell_type": "code",
   "execution_count": 7,
   "metadata": {},
   "outputs": [
    {
     "data": {
      "text/html": [
       "<div>\n",
       "<style scoped>\n",
       "    .dataframe tbody tr th:only-of-type {\n",
       "        vertical-align: middle;\n",
       "    }\n",
       "\n",
       "    .dataframe tbody tr th {\n",
       "        vertical-align: top;\n",
       "    }\n",
       "\n",
       "    .dataframe thead th {\n",
       "        text-align: right;\n",
       "    }\n",
       "</style>\n",
       "<table border=\"1\" class=\"dataframe\">\n",
       "  <thead>\n",
       "    <tr style=\"text-align: right;\">\n",
       "      <th></th>\n",
       "      <th>i</th>\n",
       "      <th>Ebeam</th>\n",
       "      <th>x</th>\n",
       "      <th>y</th>\n",
       "      <th>z</th>\n",
       "      <th>Q2</th>\n",
       "      <th>pT</th>\n",
       "      <th>obs</th>\n",
       "      <th>value</th>\n",
       "      <th>stat_u</th>\n",
       "      <th>systrel</th>\n",
       "      <th>systabs_u</th>\n",
       "      <th>target</th>\n",
       "      <th>hadron</th>\n",
       "      <th>col</th>\n",
       "      <th>Dependence</th>\n",
       "    </tr>\n",
       "  </thead>\n",
       "  <tbody>\n",
       "    <tr>\n",
       "      <th>1</th>\n",
       "      <td>8</td>\n",
       "      <td>27.6</td>\n",
       "      <td>0.056</td>\n",
       "      <td>0.569</td>\n",
       "      <td>0.356</td>\n",
       "      <td>1.631</td>\n",
       "      <td>0.409</td>\n",
       "      <td>AUTsivers</td>\n",
       "      <td>0.0264</td>\n",
       "      <td>0.0071</td>\n",
       "      <td>0</td>\n",
       "      <td>0.0017</td>\n",
       "      <td>proton</td>\n",
       "      <td>pi+</td>\n",
       "      <td>hermes</td>\n",
       "      <td>x</td>\n",
       "    </tr>\n",
       "    <tr>\n",
       "      <th>2</th>\n",
       "      <td>9</td>\n",
       "      <td>27.6</td>\n",
       "      <td>0.076</td>\n",
       "      <td>0.513</td>\n",
       "      <td>0.367</td>\n",
       "      <td>2.017</td>\n",
       "      <td>0.372</td>\n",
       "      <td>AUTsivers</td>\n",
       "      <td>0.0542</td>\n",
       "      <td>0.0078</td>\n",
       "      <td>0</td>\n",
       "      <td>0.0024</td>\n",
       "      <td>proton</td>\n",
       "      <td>pi+</td>\n",
       "      <td>hermes</td>\n",
       "      <td>x</td>\n",
       "    </tr>\n",
       "    <tr>\n",
       "      <th>3</th>\n",
       "      <td>10</td>\n",
       "      <td>27.6</td>\n",
       "      <td>0.098</td>\n",
       "      <td>0.484</td>\n",
       "      <td>0.376</td>\n",
       "      <td>2.467</td>\n",
       "      <td>0.356</td>\n",
       "      <td>AUTsivers</td>\n",
       "      <td>0.0516</td>\n",
       "      <td>0.0070</td>\n",
       "      <td>0</td>\n",
       "      <td>0.0033</td>\n",
       "      <td>proton</td>\n",
       "      <td>pi+</td>\n",
       "      <td>hermes</td>\n",
       "      <td>x</td>\n",
       "    </tr>\n",
       "    <tr>\n",
       "      <th>4</th>\n",
       "      <td>11</td>\n",
       "      <td>27.6</td>\n",
       "      <td>0.133</td>\n",
       "      <td>0.464</td>\n",
       "      <td>0.379</td>\n",
       "      <td>3.203</td>\n",
       "      <td>0.344</td>\n",
       "      <td>AUTsivers</td>\n",
       "      <td>0.0361</td>\n",
       "      <td>0.0066</td>\n",
       "      <td>0</td>\n",
       "      <td>0.0046</td>\n",
       "      <td>proton</td>\n",
       "      <td>pi+</td>\n",
       "      <td>hermes</td>\n",
       "      <td>x</td>\n",
       "    </tr>\n",
       "    <tr>\n",
       "      <th>5</th>\n",
       "      <td>12</td>\n",
       "      <td>27.6</td>\n",
       "      <td>0.186</td>\n",
       "      <td>0.449</td>\n",
       "      <td>0.379</td>\n",
       "      <td>4.321</td>\n",
       "      <td>0.339</td>\n",
       "      <td>AUTsivers</td>\n",
       "      <td>0.0531</td>\n",
       "      <td>0.0086</td>\n",
       "      <td>0</td>\n",
       "      <td>0.0064</td>\n",
       "      <td>proton</td>\n",
       "      <td>pi+</td>\n",
       "      <td>hermes</td>\n",
       "      <td>x</td>\n",
       "    </tr>\n",
       "    <tr>\n",
       "      <th>6</th>\n",
       "      <td>13</td>\n",
       "      <td>27.6</td>\n",
       "      <td>0.275</td>\n",
       "      <td>0.434</td>\n",
       "      <td>0.375</td>\n",
       "      <td>6.179</td>\n",
       "      <td>0.344</td>\n",
       "      <td>AUTsivers</td>\n",
       "      <td>0.0546</td>\n",
       "      <td>0.0118</td>\n",
       "      <td>0</td>\n",
       "      <td>0.0093</td>\n",
       "      <td>proton</td>\n",
       "      <td>pi+</td>\n",
       "      <td>hermes</td>\n",
       "      <td>x</td>\n",
       "    </tr>\n",
       "  </tbody>\n",
       "</table>\n",
       "</div>"
      ],
      "text/plain": [
       "    i  Ebeam      x      y      z     Q2     pT        obs   value  stat_u  \\\n",
       "1   8   27.6  0.056  0.569  0.356  1.631  0.409  AUTsivers  0.0264  0.0071   \n",
       "2   9   27.6  0.076  0.513  0.367  2.017  0.372  AUTsivers  0.0542  0.0078   \n",
       "3  10   27.6  0.098  0.484  0.376  2.467  0.356  AUTsivers  0.0516  0.0070   \n",
       "4  11   27.6  0.133  0.464  0.379  3.203  0.344  AUTsivers  0.0361  0.0066   \n",
       "5  12   27.6  0.186  0.449  0.379  4.321  0.339  AUTsivers  0.0531  0.0086   \n",
       "6  13   27.6  0.275  0.434  0.375  6.179  0.344  AUTsivers  0.0546  0.0118   \n",
       "\n",
       "   systrel  systabs_u  target hadron     col Dependence  \n",
       "1        0     0.0017  proton    pi+  hermes          x  \n",
       "2        0     0.0024  proton    pi+  hermes          x  \n",
       "3        0     0.0033  proton    pi+  hermes          x  \n",
       "4        0     0.0046  proton    pi+  hermes          x  \n",
       "5        0     0.0064  proton    pi+  hermes          x  \n",
       "6        0     0.0093  proton    pi+  hermes          x  "
      ]
     },
     "execution_count": 7,
     "metadata": {},
     "output_type": "execute_result"
    }
   ],
   "source": [
    "data=pd.DataFrame(pd.read_excel('../jam3d/database/sidis/expdata/2001.xlsx'))\n",
    "data.reset_index()\n",
    "data[(data.Q2>1.63) & (data.z>0.2) & (data.z<0.6) & (data.pT>0.2) & (data.pT<0.9)]"
   ]
  },
  {
   "cell_type": "markdown",
   "metadata": {},
   "source": [
    "- load an experimental data set (with cuts on Q^2, z, and pT); in this case, we are using HERMES proton Sivers data for pi+ production"
   ]
  },
  {
   "cell_type": "code",
   "execution_count": 8,
   "metadata": {},
   "outputs": [],
   "source": [
    "tar=np.array(data['target'])[0]\n",
    "if tar=='proton': tar='p'\n",
    "elif tar=='neutron': tar='n'\n",
    "elif tar=='deuteron': tar='d'\n",
    "\n",
    "had=np.array(data['hadron'])[0]\n",
    "\n",
    "obs=np.array(data['obs'])[0]\n",
    "if obs=='AUTsivers': obs='Siv'\n",
    "elif obs=='AUTcollins': obs='Col'\n",
    "\n",
    "xarr=np.array(data['x'])\n",
    "zarr=np.array(data['z'])\n",
    "Q2arr=np.array(data['Q2'])\n",
    "pTarr=np.array(data['pT'])\n",
    "asym=map(lambda x,z,Q2,pT: tmd.eval_asymmetry(obs,x,z,Q2,pT,tar,had,0,icol=False),xarr,zarr,Q2arr,pTarr)"
   ]
  },
  {
   "cell_type": "code",
   "execution_count": 9,
   "metadata": {},
   "outputs": [
    {
     "data": {
      "image/png": "[encoded data removed]",
      "text/plain": [
       "<Figure size 432x288 with 1 Axes>"
      ]
     },
     "metadata": {
      "needs_background": "light"
     },
     "output_type": "display_data"
    }
   ],
   "source": [
    "ax=py.subplot(111)\n",
    "ax.plot(xarr,asym,linestyle='-')\n",
    "ax.errorbar(xarr,data['value'],data['stat_u'],marker='o',linestyle='')\n",
    "ax.set_xlabel('$x$',size=24)\n",
    "ax.set_ylabel('$A_{UT}^{\\sin(\\phi_h-\\phi_S)}$',size=24)\n",
    "ax.text(0.2,0.025,r'${\\rm HERMES}\\;p$',fontsize=16)\n",
    "\n",
    "py.show()"
   ]
  },
  {
   "cell_type": "markdown",
   "metadata": {},
   "source": [
    "## Transversity (collinear)"
   ]
  },
  {
   "cell_type": "markdown",
   "metadata": {},
   "source": [
    "Generate the data"
   ]
  },
  {
   "cell_type": "code",
   "execution_count": 10,
   "metadata": {},
   "outputs": [
    {
     "name": "stdout",
     "output_type": "stream",
     "text": [
      "(50, 100, 11)\n"
     ]
    }
   ],
   "source": [
    "X=np.linspace(0.01,0.99,100)\n",
    "Q2=4.0\n",
    "kT=0.0\n",
    "nrep=50  #--let's use a subset of the replicas\n",
    "tran=np.array([[tmd.eval(x,Q2,kT,'p','transversity',irep,icol=True) for x in X] for irep in range(nrep)])\n",
    "print(tran.shape)"
   ]
  },
  {
   "cell_type": "markdown",
   "metadata": {},
   "source": [
    "- This is 50 replicas, 100 x-values and 11 partons\n",
    "\n",
    "\n",
    "- 11 partons: 0=g,1=u,2=ub,3=d,4=db,5=s,6=sb,7=c,8=cb,9=b,10=bb"
   ]
  },
  {
   "cell_type": "markdown",
   "metadata": {},
   "source": [
    "Plot u and d"
   ]
  },
  {
   "cell_type": "code",
   "execution_count": 11,
   "metadata": {},
   "outputs": [],
   "source": [
    "u_rep=tran[:,:,1]\n",
    "d_rep=tran[:,:,3]\n",
    "\n",
    "u  = np.mean(u_rep,axis=0)\n",
    "du = np.std(u_rep,axis=0)\n",
    "d  = np.mean(d_rep,axis=0)\n",
    "dd = np.std(d_rep,axis=0)\n"
   ]
  },
  {
   "cell_type": "code",
   "execution_count": 12,
   "metadata": {},
   "outputs": [
    {
     "data": {
      "image/png": "[encoded data removed]",
      "text/plain": [
       "<Figure size 432x288 with 1 Axes>"
      ]
     },
     "metadata": {
      "needs_background": "light"
     },
     "output_type": "display_data"
    }
   ],
   "source": [
    "ax=py.subplot(111)\n",
    "ax.fill_between(X,X*(u-du),X*(u+du),color=\"r\",alpha=0.35,label='u')\n",
    "ax.fill_between(X,X*(d-dd),X*(d+dd),color=\"b\",alpha=0.35,label='d')\n",
    "\n",
    "ax.plot(X,X*0,color=\"k\",linewidth=0.85)\n",
    "\n",
    "ax.plot(X,X*u,color=\"r\",linewidth=2.5)\n",
    "ax.plot(X,X*d,color=\"b\",linewidth=2.5)\n",
    "\n",
    "ax.legend()\n",
    "\n",
    "ax.set_ylabel(r'$xh_1(x)$',size=20)\n",
    "ax.set_xlabel(r'$x$',size=20)\n",
    "ax.text(0.77,0.3,r'$Q^2=4\\; {\\rm GeV}^2$',fontsize=12)\n",
    "\n",
    "\n",
    "py.show()"
   ]
  },
  {
   "cell_type": "markdown",
   "metadata": {
    "collapsed": true
   },
   "source": [
    "## Transversity (TMD)"
   ]
  },
  {
   "cell_type": "markdown",
   "metadata": {},
   "source": [
    "Generate the data"
   ]
  },
  {
   "cell_type": "code",
   "execution_count": 13,
   "metadata": {},
   "outputs": [
    {
     "name": "stdout",
     "output_type": "stream",
     "text": [
      "(50, 100, 11)\n"
     ]
    }
   ],
   "source": [
    "KT=np.linspace(0.01,0.99,100)\n",
    "Q2=4.0\n",
    "x=0.1\n",
    "nrep=50  #--let's use a subset of the replicas\n",
    "trankT=np.array([[tmd.eval(x,Q2,kT,'p','transversity',irep,icol=False) for kT in KT] for irep in range(nrep)])\n",
    "print(trankT.shape)"
   ]
  },
  {
   "cell_type": "markdown",
   "metadata": {},
   "source": [
    "- This is 50 replicas, 100 kT-values and 11 partons\n",
    "\n",
    "\n",
    "- 11 partons: 0=g,1=u,2=ub,3=d,4=db,5=s,6=sb,7=c,8=cb,9=b,10=bb"
   ]
  },
  {
   "cell_type": "markdown",
   "metadata": {},
   "source": [
    "Plot u and d"
   ]
  },
  {
   "cell_type": "code",
   "execution_count": 14,
   "metadata": {},
   "outputs": [],
   "source": [
    "u_repkT=trankT[:,:,1]\n",
    "d_repkT=trankT[:,:,3]\n",
    "\n",
    "ukT  = np.mean(u_repkT,axis=0)\n",
    "dukT = np.std(u_repkT,axis=0)\n",
    "dkT  = np.mean(d_repkT,axis=0)\n",
    "ddkT = np.std(d_repkT,axis=0)\n"
   ]
  },
  {
   "cell_type": "code",
   "execution_count": 15,
   "metadata": {
    "scrolled": true
   },
   "outputs": [
    {
     "data": {
      "image/png": "[encoded data removed]",
      "text/plain": [
       "<Figure size 432x288 with 1 Axes>"
      ]
     },
     "metadata": {
      "needs_background": "light"
     },
     "output_type": "display_data"
    }
   ],
   "source": [
    "ax=py.subplot(111)\n",
    "ax.fill_between(KT,(ukT-dukT),(ukT+dukT),color=\"r\",alpha=0.35,label='u')\n",
    "ax.fill_between(KT,(dkT-ddkT),(dkT+ddkT),color=\"b\",alpha=0.35,label='d')\n",
    "\n",
    "\n",
    "ax.plot(X,X*0,color=\"k\",linewidth=0.85)\n",
    "\n",
    "ax.plot(KT,ukT,color=\"r\",linewidth=2.5)\n",
    "ax.plot(KT,dkT,color=\"b\",linewidth=2.5)\n",
    "\n",
    "ax.legend()\n",
    "\n",
    "ax.set_ylabel(r'$h_1(x,k_T^2)$',size=20)\n",
    "ax.set_xlabel(r'$k_T$',size=20)\n",
    "ax.text(0.33,0.15,r'$x=0.1\\,,$',fontsize=12)\n",
    "ax.text(0.5,0.15,r'$Q^2=4\\; {\\rm GeV}^2$',fontsize=12)\n",
    "\n",
    "\n",
    "py.show()"
   ]
  },
  {
   "cell_type": "markdown",
   "metadata": {},
   "source": [
    "## Sivers first moment (collinear)"
   ]
  },
  {
   "cell_type": "markdown",
   "metadata": {},
   "source": [
    "Generate the data"
   ]
  },
  {
   "cell_type": "code",
   "execution_count": 16,
   "metadata": {},
   "outputs": [
    {
     "name": "stdout",
     "output_type": "stream",
     "text": [
      "(50, 100, 11)\n"
     ]
    }
   ],
   "source": [
    "X=np.linspace(0.01,0.99,100)\n",
    "Q2=4.0\n",
    "kT=0.0\n",
    "nrep=50  #--let's use a subset of the replicas\n",
    "siv=np.array([[tmd.eval(x,Q2,kT,'p','sivers',irep,icol=True) for x in X] for irep in range(nrep)])\n",
    "print(siv.shape)"
   ]
  },
  {
   "cell_type": "markdown",
   "metadata": {},
   "source": [
    "- This is 50 replicas, 100 x-values and 11 partons\n",
    "\n",
    "\n",
    "- 11 partons: 0=g,1=u,2=ub,3=d,4=db,5=s,6=sb,7=c,8=cb,9=b,10=bb"
   ]
  },
  {
   "cell_type": "markdown",
   "metadata": {},
   "source": [
    "Plot u and d"
   ]
  },
  {
   "cell_type": "code",
   "execution_count": 17,
   "metadata": {},
   "outputs": [],
   "source": [
    "u_rep=siv[:,:,1]\n",
    "d_rep=siv[:,:,3]\n",
    "\n",
    "u  = np.mean(u_rep,axis=0)\n",
    "du = np.std(u_rep,axis=0)\n",
    "d  = np.mean(d_rep,axis=0)\n",
    "dd = np.std(d_rep,axis=0)\n"
   ]
  },
  {
   "cell_type": "code",
   "execution_count": 18,
   "metadata": {},
   "outputs": [
    {
     "data": {
      "image/png": "[encoded data removed]",
      "text/plain": [
       "<Figure size 432x288 with 1 Axes>"
      ]
     },
     "metadata": {
      "needs_background": "light"
     },
     "output_type": "display_data"
    }
   ],
   "source": [
    "ax=py.subplot(111)\n",
    "ax.fill_between(X,X*(u-du),X*(u+du),color=\"r\",alpha=0.35,label='u')\n",
    "ax.fill_between(X,X*(d-dd),X*(d+dd),color=\"b\",alpha=0.35,label='d')\n",
    "\n",
    "ax.plot(X,X*0,color=\"k\",linewidth=0.85)\n",
    "\n",
    "ax.plot(X,X*u,color=\"r\",linewidth=2.5)\n",
    "ax.plot(X,X*d,color=\"b\",linewidth=2.5)\n",
    "\n",
    "ax.legend()\n",
    "\n",
    "ax.set_ylabel(r'$xf_{1T}^{\\perp(1)}(x)$',size=20)\n",
    "ax.set_xlabel(r'$x$',size=20)\n",
    "ax.text(0.77,0.02,r'$Q^2=4\\; {\\rm GeV}^2$',fontsize=12)\n",
    "\n",
    "\n",
    "py.show()"
   ]
  },
  {
   "cell_type": "markdown",
   "metadata": {
    "collapsed": true
   },
   "source": [
    "## Sivers (TMD)"
   ]
  },
  {
   "cell_type": "markdown",
   "metadata": {},
   "source": [
    "Generate the data"
   ]
  },
  {
   "cell_type": "code",
   "execution_count": 19,
   "metadata": {},
   "outputs": [
    {
     "name": "stdout",
     "output_type": "stream",
     "text": [
      "(50, 100, 11)\n"
     ]
    }
   ],
   "source": [
    "KT=np.linspace(0.01,0.99,100)\n",
    "Q2=4.0\n",
    "x=0.1\n",
    "nrep=50  #--let's use a subset of the replicas\n",
    "sivkT=np.array([[tmd.eval(x,Q2,kT,'p','sivers',irep,icol=False) for kT in KT] for irep in range(nrep)])\n",
    "print(sivkT.shape)"
   ]
  },
  {
   "cell_type": "markdown",
   "metadata": {},
   "source": [
    "- This is 50 replicas, 100 kT-values and 11 partons\n",
    "\n",
    "\n",
    "- 11 partons: 0=g,1=u,2=ub,3=d,4=db,5=s,6=sb,7=c,8=cb,9=b,10=bb"
   ]
  },
  {
   "cell_type": "markdown",
   "metadata": {},
   "source": [
    "Plot u and d"
   ]
  },
  {
   "cell_type": "code",
   "execution_count": 20,
   "metadata": {},
   "outputs": [],
   "source": [
    "u_repkT=sivkT[:,:,1]\n",
    "d_repkT=sivkT[:,:,3]\n",
    "\n",
    "ukT  = np.mean(u_repkT,axis=0)\n",
    "dukT = np.std(u_repkT,axis=0)\n",
    "dkT  = np.mean(d_repkT,axis=0)\n",
    "ddkT = np.std(d_repkT,axis=0)\n"
   ]
  },
  {
   "cell_type": "code",
   "execution_count": 21,
   "metadata": {
    "scrolled": false
   },
   "outputs": [
    {
     "data": {
      "image/png": "[encoded data removed]",
      "text/plain": [
       "<Figure size 432x288 with 1 Axes>"
      ]
     },
     "metadata": {
      "needs_background": "light"
     },
     "output_type": "display_data"
    }
   ],
   "source": [
    "ax=py.subplot(111)\n",
    "ax.fill_between(KT,KT**2/(2.*M**2)*(ukT-dukT),KT**2/(2.*M**2)*(ukT+dukT),color=\"r\",alpha=0.35,label='u')\n",
    "ax.fill_between(KT,KT**2/(2.*M**2)*(dkT-ddkT),KT**2/(2.*M**2)*(dkT+ddkT),color=\"b\",alpha=0.35,label='d')\n",
    "\n",
    "ax.plot(X,X*0,color=\"k\",linewidth=0.85)\n",
    "\n",
    "ax.plot(KT,KT**2/(2.*M**2)*ukT,color=\"r\",linewidth=2.5)\n",
    "ax.plot(KT,KT**2/(2.*M**2)*dkT,color=\"b\",linewidth=2.5)\n",
    "\n",
    "ax.legend()\n",
    "\n",
    "ax.set_ylabel(r'$\\frac{k_T^2}{2 M^2}f_{1T}^\\perp(x,k_T^2)$',size=20)\n",
    "ax.set_xlabel(r'$k_T$',size=20)\n",
    "ax.text(0.42,0.02,r'$x=0.1\\,,$',fontsize=12)\n",
    "ax.text(0.58,0.02,r'$Q^2=4\\; {\\rm GeV}^2$',fontsize=12)\n",
    "\n",
    "\n",
    "py.show()"
   ]
  },
  {
   "cell_type": "markdown",
   "metadata": {},
   "source": [
    "## Collins first moment (collinear)"
   ]
  },
  {
   "cell_type": "markdown",
   "metadata": {},
   "source": [
    "Generate the data"
   ]
  },
  {
   "cell_type": "code",
   "execution_count": 22,
   "metadata": {},
   "outputs": [
    {
     "name": "stdout",
     "output_type": "stream",
     "text": [
      "(50, 100, 11)\n"
     ]
    }
   ],
   "source": [
    "X=np.linspace(0.01,0.99,100)\n",
    "Q2=4.0\n",
    "kT=0.0\n",
    "nrep=50  #--let's use a subset of the replicas\n",
    "col=np.array([[tmd.eval(x,Q2,kT,'pi','collinspi',irep,icol=True) for x in X] for irep in range(nrep)])\n",
    "print(col.shape)"
   ]
  },
  {
   "cell_type": "markdown",
   "metadata": {},
   "source": [
    "- This is 50 replicas, 100 z-values and 11 partons\n",
    "\n",
    "\n",
    "- 11 partons: 0=g,1=u,2=ub,3=d,4=db,5=s,6=sb,7=c,8=cb,9=b,10=bb"
   ]
  },
  {
   "cell_type": "markdown",
   "metadata": {},
   "source": [
    "Plot favored and unfavored"
   ]
  },
  {
   "cell_type": "code",
   "execution_count": 23,
   "metadata": {},
   "outputs": [],
   "source": [
    "fav_rep=col[:,:,1]\n",
    "unf_rep=col[:,:,3]\n",
    "\n",
    "fav  = np.mean(fav_rep,axis=0)\n",
    "dfav = np.std(fav_rep,axis=0)\n",
    "unf  = np.mean(unf_rep,axis=0)\n",
    "dunf = np.std(unf_rep,axis=0)\n"
   ]
  },
  {
   "cell_type": "code",
   "execution_count": 24,
   "metadata": {},
   "outputs": [
    {
     "data": {
      "image/png": "[encoded data removed]",
      "text/plain": [
       "<Figure size 432x288 with 1 Axes>"
      ]
     },
     "metadata": {
      "needs_background": "light"
     },
     "output_type": "display_data"
    }
   ],
   "source": [
    "ax=py.subplot(111)\n",
    "ax.fill_between(X,X*(fav-dfav),X*(fav+dfav),color=\"r\",alpha=0.35,label='fav')\n",
    "ax.fill_between(X,X*(unf-dunf),X*(unf+dunf),color=\"b\",alpha=0.35,label='unf')\n",
    "\n",
    "ax.plot(X,X*0,color=\"k\",linewidth=0.85)\n",
    "\n",
    "ax.plot(X,X*fav,color=\"r\",linewidth=2.5)\n",
    "ax.plot(X,X*unf,color=\"b\",linewidth=2.5)\n",
    "\n",
    "ax.legend()\n",
    "\n",
    "ax.set_ylabel(r'$zH_{1}^{\\perp(1)}(z)$',size=20)\n",
    "ax.set_xlabel(r'$z$',size=20)\n",
    "ax.text(0.77,0.4,r'$Q^2=4\\; {\\rm GeV}^2$',fontsize=12)\n",
    "\n",
    "ax.set_xlim(0.2,1)\n",
    "ax.set_ylim(-1,1)\n",
    "\n",
    "py.show()"
   ]
  },
  {
   "cell_type": "markdown",
   "metadata": {
    "collapsed": true
   },
   "source": [
    "## Collins (TMD)"
   ]
  },
  {
   "cell_type": "markdown",
   "metadata": {},
   "source": [
    "Generate the data"
   ]
  },
  {
   "cell_type": "code",
   "execution_count": 25,
   "metadata": {},
   "outputs": [
    {
     "name": "stdout",
     "output_type": "stream",
     "text": [
      "(50, 100, 11)\n"
     ]
    }
   ],
   "source": [
    "KT=np.linspace(0.01,0.99,100)\n",
    "Q2=4.0\n",
    "z=0.3\n",
    "nrep=50  #--let's use a subset of the replicas\n",
    "colkT=np.array([[tmd.eval(z,Q2,kT,'pi','collinspi',irep,icol=False) for kT in KT] for irep in range(nrep)])\n",
    "print(colkT.shape)"
   ]
  },
  {
   "cell_type": "markdown",
   "metadata": {},
   "source": [
    "- This is 50 replicas, 100 kT-values and 11 partons\n",
    "\n",
    "\n",
    "- 11 partons: 0=g,1=u,2=ub,3=d,4=db,5=s,6=sb,7=c,8=cb,9=b,10=bb"
   ]
  },
  {
   "cell_type": "markdown",
   "metadata": {},
   "source": [
    "Plot u and d"
   ]
  },
  {
   "cell_type": "code",
   "execution_count": 26,
   "metadata": {},
   "outputs": [],
   "source": [
    "fav_repkT=colkT[:,:,1]\n",
    "unf_repkT=colkT[:,:,3]\n",
    "\n",
    "favkT  = np.mean(fav_repkT,axis=0)\n",
    "dfavkT = np.std(fav_repkT,axis=0)\n",
    "unfkT  = np.mean(unf_repkT,axis=0)\n",
    "dunfkT = np.std(unf_repkT,axis=0)\n"
   ]
  },
  {
   "cell_type": "code",
   "execution_count": 27,
   "metadata": {
    "scrolled": false
   },
   "outputs": [
    {
     "data": {
      "image/png": "[encoded data removed]",
      "text/plain": [
       "<Figure size 432x288 with 1 Axes>"
      ]
     },
     "metadata": {
      "needs_background": "light"
     },
     "output_type": "display_data"
    }
   ],
   "source": [
    "ax=py.subplot(111)\n",
    "ax.fill_between(KT,z**2*KT**2/(2.*Mpi**2)*(favkT-dfavkT),z**2*KT**2/(2.*Mpi**2)*(favkT+dfavkT),color=\"r\",alpha=0.35,label='fav')\n",
    "ax.fill_between(KT,z**2*KT**2/(2.*Mpi**2)*(unfkT-dunfkT),z**2*KT**2/(2.*Mpi**2)*(unfkT+dunfkT),color=\"b\",alpha=0.35,label='unf')\n",
    "\n",
    "ax.plot(X,X*0,color=\"k\",linewidth=0.85)\n",
    "\n",
    "ax.plot(KT,z**2*KT**2/(2.*Mpi**2)*favkT,color=\"r\",linewidth=2.5)\n",
    "ax.plot(KT,z**2*KT**2/(2.*Mpi**2)*unfkT,color=\"b\",linewidth=2.5)\n",
    "\n",
    "ax.legend()\n",
    "\n",
    "ax.set_ylabel(r'$\\frac{z^2\\,p_\\perp^2}{2 M_\\pi^2}H_{1}^\\perp(z,z^2 p_\\perp^2)$',size=20)\n",
    "ax.set_xlabel(r'$p_\\perp$',size=20)\n",
    "ax.text(0.6,-0.05,r'$z=0.3\\,,$',fontsize=12)\n",
    "ax.text(0.76,-0.05,r'$Q^2=4\\; {\\rm GeV}^2$',fontsize=12)\n",
    "\n",
    "\n",
    "py.show()"
   ]
  },
  {
   "cell_type": "code",
   "execution_count": null,
   "metadata": {},
   "outputs": [],
   "source": []
  },
  {
   "cell_type": "code",
   "execution_count": null,
   "metadata": {},
   "outputs": [],
   "source": []
  }
 ],
 "metadata": {
  "anaconda-cloud": {},
  "kernelspec": {
   "display_name": "Python 2",
   "language": "python",
   "name": "python2"
  },
  "language_info": {
   "codemirror_mode": {
    "name": "ipython",
    "version": 2
   },
   "file_extension": ".py",
   "mimetype": "text/x-python",
   "name": "python",
   "nbconvert_exporter": "python",
   "pygments_lexer": "ipython2",
   "version": "2.7.13"
  }
 },
 "nbformat": 4,
 "nbformat_minor": 2
}
