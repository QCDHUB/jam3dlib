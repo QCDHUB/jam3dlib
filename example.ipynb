{
 "cells": [
  {
   "cell_type": "code",
   "execution_count": 1,
   "metadata": {},
   "outputs": [],
   "source": [
    "import os,sys\n",
    "import numpy as np\n",
    "from tmd import TMD\n",
    "import pylab as py"
   ]
  },
  {
   "cell_type": "markdown",
   "metadata": {},
   "source": [
    "## Load the TMD class"
   ]
  },
  {
   "cell_type": "code",
   "execution_count": 2,
   "metadata": {},
   "outputs": [],
   "source": [
    "tag='020820'\n",
    "tmd=TMD(tag)"
   ]
  },
  {
   "cell_type": "markdown",
   "metadata": {},
   "source": [
    "020820 is a tag for a given analysis. See  ..."
   ]
  },
  {
   "cell_type": "markdown",
   "metadata": {},
   "source": [
    "## Simple test"
   ]
  },
  {
   "cell_type": "code",
   "execution_count": 3,
   "metadata": {},
   "outputs": [
    {
     "name": "stdout",
     "output_type": "stream",
     "text": [
      "[ 1.34068022e+00  2.67657495e+00  0.00000000e+00 -1.13986894e-03\n",
      "  0.00000000e+00  0.00000000e+00  0.00000000e+00  1.34068022e+00\n",
      "  1.34068022e+00  1.34068022e+00  1.34068022e+00]\n",
      "[ 6.42582127e-01  1.40267663e+00  0.00000000e+00 -5.97355781e-04\n",
      "  0.00000000e+00  0.00000000e+00  0.00000000e+00  6.42582127e-01\n",
      "  6.42582127e-01  6.42582127e-01  6.42582127e-01]\n"
     ]
    }
   ],
   "source": [
    "x=0.1\n",
    "Q2=10.0\n",
    "kT=0.1\n",
    "print(tmd.eval(x,Q2,kT,'p','transversity',0,icol=False))\n",
    "print(tmd.eval(x,Q2,kT,'p','transversity',0,icol=True))"
   ]
  },
  {
   "cell_type": "markdown",
   "metadata": {},
   "source": [
    "- icol=False will give the full TMD\n",
    "\n",
    "- icol=True  will return only the collinear part\n",
    "\n",
    "- 0 means the replica index. You can get the number of replicas via  \n"
   ]
  },
  {
   "cell_type": "code",
   "execution_count": 4,
   "metadata": {},
   "outputs": [
    {
     "data": {
      "text/plain": [
       "953"
      ]
     },
     "execution_count": 4,
     "metadata": {},
     "output_type": "execute_result"
    }
   ],
   "source": [
    "tmd.nrep"
   ]
  },
  {
   "cell_type": "markdown",
   "metadata": {},
   "source": [
    "## Transversity"
   ]
  },
  {
   "cell_type": "markdown",
   "metadata": {},
   "source": [
    "Generate the data"
   ]
  },
  {
   "cell_type": "code",
   "execution_count": 5,
   "metadata": {},
   "outputs": [
    {
     "name": "stdout",
     "output_type": "stream",
     "text": [
      "(50, 100, 11)\n"
     ]
    }
   ],
   "source": [
    "X=np.linspace(0.01,0.99,100)\n",
    "Q2=10.0\n",
    "kT=0.0\n",
    "nrep=50  #--lets use a subset of the replicas\n",
    "tran=np.array([[tmd.eval(x,Q2,kT,'p','transversity',irep,icol=True) for x in X] for irep in range(nrep)])\n",
    "print(tran.shape)"
   ]
  },
  {
   "cell_type": "markdown",
   "metadata": {},
   "source": [
    "- This is 10 replicas, 100 x values and 11 partons\n",
    "\n",
    "- 11 partons: 0=g,1=u,2=ub,3=d,4=db,5=s,6=sb,7=c,8=cb,9=b,10=bb"
   ]
  },
  {
   "cell_type": "markdown",
   "metadata": {},
   "source": [
    "Plot u and d"
   ]
  },
  {
   "cell_type": "code",
   "execution_count": 6,
   "metadata": {},
   "outputs": [],
   "source": [
    "u_rep=tran[:,:,1]\n",
    "d_rep=tran[:,:,3]\n",
    "\n",
    "u  = np.mean(u_rep,axis=0)\n",
    "du = np.std(u_rep,axis=0)\n",
    "d  = np.mean(d_rep,axis=0)\n",
    "dd = np.std(d_rep,axis=0)\n"
   ]
  },
  {
   "cell_type": "code",
   "execution_count": 7,
   "metadata": {},
   "outputs": [
    {
     "data": {
      "text/plain": [
       "Text(0.5,0,'$x$')"
      ]
     },
     "execution_count": 7,
     "metadata": {},
     "output_type": "execute_result"
    },
    {
     "data": {
      "image/png": "[encoded data removed]",
      "text/plain": [
       "<Figure size 432x288 with 1 Axes>"
      ]
     },
     "metadata": {
      "needs_background": "light"
     },
     "output_type": "display_data"
    }
   ],
   "source": [
    "ax=py.subplot(111)\n",
    "ax.fill_between(X,X*(u-du),X*(u+du),alpha=0.5)\n",
    "ax.fill_between(X,X*(d-dd),X*(d+dd),alpha=0.5)\n",
    "\n",
    "ax.plot(X,X*u)\n",
    "ax.plot(X,X*d)\n",
    "\n",
    "ax.set_ylabel(r'$xh_1$',size=20)\n",
    "ax.set_xlabel(r'$x$',size=20)\n"
   ]
  },
  {
   "cell_type": "code",
   "execution_count": null,
   "metadata": {},
   "outputs": [],
   "source": []
  },
  {
   "cell_type": "code",
   "execution_count": null,
   "metadata": {},
   "outputs": [],
   "source": []
  },
  {
   "cell_type": "code",
   "execution_count": null,
   "metadata": {},
   "outputs": [],
   "source": []
  },
  {
   "cell_type": "code",
   "execution_count": null,
   "metadata": {},
   "outputs": [],
   "source": []
  },
  {
   "cell_type": "code",
   "execution_count": null,
   "metadata": {},
   "outputs": [],
   "source": []
  }
 ],
 "metadata": {
  "kernelspec": {
   "display_name": "Python 2",
   "language": "python",
   "name": "python2"
  },
  "language_info": {
   "codemirror_mode": {
    "name": "ipython",
    "version": 2
   },
   "file_extension": ".py",
   "mimetype": "text/x-python",
   "name": "python",
   "nbconvert_exporter": "python",
   "pygments_lexer": "ipython2",
   "version": "2.7.17"
  }
 },
 "nbformat": 4,
 "nbformat_minor": 2
}
