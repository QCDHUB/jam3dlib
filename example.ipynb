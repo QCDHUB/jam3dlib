{
 "cells": [
  {
   "cell_type": "code",
   "execution_count": 1,
   "metadata": {
    "collapsed": true
   },
   "outputs": [],
   "source": [
    "import os,sys\n",
    "import numpy as np\n",
    "from tmd import TMD\n",
    "import pylab as py"
   ]
  },
  {
   "cell_type": "markdown",
   "metadata": {},
   "source": [
    "## Load the TMD class"
   ]
  },
  {
   "cell_type": "code",
   "execution_count": 2,
   "metadata": {
    "collapsed": true
   },
   "outputs": [],
   "source": [
    "tag='020820' #date of the analysis: Feb. 8, 2020\n",
    "tmd=TMD(tag)"
   ]
  },
  {
   "cell_type": "markdown",
   "metadata": {},
   "source": [
    "020820 is a tag for a given analysis. See  ..."
   ]
  },
  {
   "cell_type": "markdown",
   "metadata": {},
   "source": [
    "## Simple test"
   ]
  },
  {
   "cell_type": "code",
   "execution_count": 3,
   "metadata": {},
   "outputs": [
    {
     "name": "stdout",
     "output_type": "stream",
     "text": [
      "[  2.42041094e-01   4.83218234e-01   0.00000000e+00  -2.05787420e-04\n",
      "   0.00000000e+00   0.00000000e+00   0.00000000e+00   2.42041094e-01\n",
      "   2.42041094e-01   2.42041094e-01   2.42041094e-01]\n",
      "[  6.42582127e-01   1.40267663e+00   0.00000000e+00  -5.97355781e-04\n",
      "   0.00000000e+00   0.00000000e+00   0.00000000e+00   6.42582127e-01\n",
      "   6.42582127e-01   6.42582127e-01   6.42582127e-01]\n"
     ]
    }
   ],
   "source": [
    "x=0.1\n",
    "Q2=10.0\n",
    "kT=0.1\n",
    "print(tmd.eval(x,Q2,kT,'p','transversity',0,icol=False))\n",
    "print(tmd.eval(x,Q2,kT,'p','transversity',0,icol=True))"
   ]
  },
  {
   "cell_type": "markdown",
   "metadata": {},
   "source": [
    "- icol=False will give the full TMD while icol=True will return only the collinear part: see Eqs. (1)-(5) of...\n",
    "\n",
    "\n",
    "- The 6th argument in tmd.eval is the replica index (0 is chosen in this case). You can get the number of replicas via tmd.nrep:\n"
   ]
  },
  {
   "cell_type": "code",
   "execution_count": 4,
   "metadata": {},
   "outputs": [
    {
     "data": {
      "text/plain": [
       "953"
      ]
     },
     "execution_count": 4,
     "metadata": {},
     "output_type": "execute_result"
    }
   ],
   "source": [
    "tmd.nrep"
   ]
  },
  {
   "cell_type": "markdown",
   "metadata": {},
   "source": [
    "## Transversity (collinear)"
   ]
  },
  {
   "cell_type": "markdown",
   "metadata": {},
   "source": [
    "Generate the data"
   ]
  },
  {
   "cell_type": "code",
   "execution_count": 5,
   "metadata": {},
   "outputs": [
    {
     "name": "stdout",
     "output_type": "stream",
     "text": [
      "(50, 100, 11)\n"
     ]
    }
   ],
   "source": [
    "X=np.linspace(0.01,0.99,100)\n",
    "Q2=10.0\n",
    "kT=0.0\n",
    "nrep=50  #--let's use a subset of the replicas\n",
    "tran=np.array([[tmd.eval(x,Q2,kT,'p','transversity',irep,icol=True) for x in X] for irep in range(nrep)])\n",
    "print(tran.shape)"
   ]
  },
  {
   "cell_type": "markdown",
   "metadata": {},
   "source": [
    "- This is 50 replicas, 100 x-values and 11 partons\n",
    "\n",
    "\n",
    "- 11 partons: 0=g,1=u,2=ub,3=d,4=db,5=s,6=sb,7=c,8=cb,9=b,10=bb"
   ]
  },
  {
   "cell_type": "markdown",
   "metadata": {},
   "source": [
    "Plot u and d"
   ]
  },
  {
   "cell_type": "code",
   "execution_count": 6,
   "metadata": {
    "collapsed": true
   },
   "outputs": [],
   "source": [
    "u_rep=tran[:,:,1]\n",
    "d_rep=tran[:,:,3]\n",
    "\n",
    "u  = np.mean(u_rep,axis=0)\n",
    "du = np.std(u_rep,axis=0)\n",
    "d  = np.mean(d_rep,axis=0)\n",
    "dd = np.std(d_rep,axis=0)\n"
   ]
  },
  {
   "cell_type": "code",
   "execution_count": 7,
   "metadata": {},
   "outputs": [
    {
     "data": {
      "image/png": "[encoded data removed]",
      "text/plain": [
       "<matplotlib.figure.Figure at 0x10d544090>"
      ]
     },
     "metadata": {},
     "output_type": "display_data"
    }
   ],
   "source": [
    "ax=py.subplot(111)\n",
    "ax.fill_between(X,X*(u-du),X*(u+du),alpha=0.5)\n",
    "ax.fill_between(X,X*(d-dd),X*(d+dd),alpha=0.5)\n",
    "\n",
    "ax.plot(X,X*u)\n",
    "ax.plot(X,X*d)\n",
    "\n",
    "ax.set_ylabel(r'$xh_1(x)$',size=20)\n",
    "ax.set_xlabel(r'$x$',size=20)\n",
    "\n",
    "py.show()"
   ]
  },
  {
   "cell_type": "markdown",
   "metadata": {
    "collapsed": true
   },
   "source": [
    "## Transversity (TMD)"
   ]
  },
  {
   "cell_type": "markdown",
   "metadata": {},
   "source": [
    "Generate the data"
   ]
  },
  {
   "cell_type": "code",
   "execution_count": 8,
   "metadata": {},
   "outputs": [
    {
     "name": "stdout",
     "output_type": "stream",
     "text": [
      "(50, 100, 11)\n"
     ]
    }
   ],
   "source": [
    "KT=np.linspace(0.01,0.99,100)\n",
    "Q2=10.0\n",
    "x=0.3\n",
    "nrep=50  #--let's use a subset of the replicas\n",
    "trankT=np.array([[tmd.eval(x,Q2,kT,'p','transversity',irep,icol=False) for kT in KT] for irep in range(nrep)])\n",
    "print(tran.shape)"
   ]
  },
  {
   "cell_type": "markdown",
   "metadata": {},
   "source": [
    "- This is 50 replicas, 100 x-values and 11 partons\n",
    "\n",
    "\n",
    "- 11 partons: 0=g,1=u,2=ub,3=d,4=db,5=s,6=sb,7=c,8=cb,9=b,10=bb"
   ]
  },
  {
   "cell_type": "markdown",
   "metadata": {},
   "source": [
    "Plot u and d"
   ]
  },
  {
   "cell_type": "code",
   "execution_count": 9,
   "metadata": {
    "collapsed": true
   },
   "outputs": [],
   "source": [
    "u_repkT=trankT[:,:,1]\n",
    "d_repkT=trankT[:,:,3]\n",
    "\n",
    "ukT  = np.mean(u_repkT,axis=0)\n",
    "dukT = np.std(u_repkT,axis=0)\n",
    "dkT  = np.mean(d_repkT,axis=0)\n",
    "ddkT = np.std(d_repkT,axis=0)\n"
   ]
  },
  {
   "cell_type": "code",
   "execution_count": 10,
   "metadata": {},
   "outputs": [
    {
     "data": {
      "image/png": "[encoded data removed]",
      "text/plain": [
       "<matplotlib.figure.Figure at 0x10d544690>"
      ]
     },
     "metadata": {},
     "output_type": "display_data"
    }
   ],
   "source": [
    "ax=py.subplot(111)\n",
    "ax.fill_between(KT,KT*(ukT-dukT),KT*(ukT+dukT),alpha=0.5)\n",
    "ax.fill_between(KT,KT*(dkT-ddkT),KT*(dkT+ddkT),alpha=0.5)\n",
    "\n",
    "ax.plot(KT,KT*ukT)\n",
    "ax.plot(KT,KT*dkT)\n",
    "\n",
    "ax.set_ylabel(r'$k_T\\, h_1(x,k_T^2)$',size=20)\n",
    "ax.set_xlabel(r'$kT$',size=20)\n",
    "ax.text(0,0.15,r'$x=0.3$',fontsize=12)\n",
    "\n",
    "py.show()"
   ]
  },
  {
   "cell_type": "code",
   "execution_count": null,
   "metadata": {
    "collapsed": true
   },
   "outputs": [],
   "source": []
  },
  {
   "cell_type": "code",
   "execution_count": null,
   "metadata": {
    "collapsed": true
   },
   "outputs": [],
   "source": []
  },
  {
   "cell_type": "code",
   "execution_count": null,
   "metadata": {
    "collapsed": true
   },
   "outputs": [],
   "source": []
  },
  {
   "cell_type": "code",
   "execution_count": null,
   "metadata": {
    "collapsed": true
   },
   "outputs": [],
   "source": []
  }
 ],
 "metadata": {
  "kernelspec": {
   "display_name": "Python 2",
   "language": "python",
   "name": "python2"
  },
  "language_info": {
   "codemirror_mode": {
    "name": "ipython",
    "version": 2
   },
   "file_extension": ".py",
   "mimetype": "text/x-python",
   "name": "python",
   "nbconvert_exporter": "python",
   "pygments_lexer": "ipython2",
   "version": "2.7.13"
  }
 },
 "nbformat": 4,
 "nbformat_minor": 2
}
